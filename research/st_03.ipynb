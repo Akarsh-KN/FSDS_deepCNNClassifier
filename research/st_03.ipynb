{
 "cells": [
  {
   "cell_type": "code",
   "execution_count": 1,
   "metadata": {},
   "outputs": [],
   "source": [
    "import os\n",
    "os.chdir(\"../\")"
   ]
  },
  {
   "cell_type": "code",
   "execution_count": 2,
   "metadata": {},
   "outputs": [],
   "source": [
    "from dataclasses import dataclass\n",
    "from pathlib import Path"
   ]
  },
  {
   "cell_type": "code",
   "execution_count": 3,
   "metadata": {},
   "outputs": [],
   "source": [
    "@dataclass(frozen=True)\n",
    "class PrepareCallbacksConfig:\n",
    "    root_dir: Path\n",
    "    tensorbord_root_log_dir: Path\n",
    "    checkpoint_model_filepath: Path\n"
   ]
  },
  {
   "cell_type": "code",
   "execution_count": 4,
   "metadata": {},
   "outputs": [],
   "source": [
    "from deepClassifier.utils import read_yaml, create_directories\n",
    "from deepClassifier.constants import *"
   ]
  },
  {
   "cell_type": "code",
   "execution_count": 5,
   "metadata": {},
   "outputs": [],
   "source": [
    "class Configuration:\n",
    "    def __init__(\n",
    "        self,\n",
    "        config_filepath=CONFIG_FILE_PATH,\n",
    "        params_filepath=PARAMS_FILE_PATH):\n",
    "        self.config=read_yaml(config_filepath)\n",
    "        self.params=read_yaml(params_filepath)\n",
    "        create_directories([self.config.artifact_root])\n",
    "    \n",
    "    def get_prepare_callback_config(self) ->PrepareCallbacksConfig:\n",
    "        config = self.config.prepare_callbacks\n",
    "        model_ckptl_dir = os.path.dirname(config.checkpoint_model_filepath)\n",
    "        create_directories([Path(model_ckptl_dir), Path(config.tensorbord_root_log_dir)])\n",
    "\n",
    "        prepare_callback_config = PrepareCallbacksConfig(\n",
    "            root_dir=Path(config.root_dir),\n",
    "            tensorbord_root_log_dir=Path(config.tensorbord_root_log_dir),\n",
    "            checkpoint_model_filepath=Path(config.checkpoint_model_filepath)\n",
    "        )\n",
    "\n",
    "        return prepare_callback_config\n"
   ]
  },
  {
   "cell_type": "code",
   "execution_count": 6,
   "metadata": {},
   "outputs": [],
   "source": [
    "from pathlib import Path\n",
    "from zipfile import ZipFile\n",
    "import os\n",
    "from urllib import request\n",
    "from tqdm import tqdm\n",
    "import pandas\n",
    "import tensorflow as tf\n",
    "import time\n",
    "\n",
    "class PrepareCallBack:\n",
    "    def __init__(self, config: PrepareCallbacksConfig):\n",
    "        self.config=config\n",
    "    \n",
    "    @property\n",
    "    def _create_tb_callbacks(self):\n",
    "        timestamp=time.strftime(\"%Y-%m-%d-%H-%M-%S\")\n",
    "        tb_running_log_dir=os.path.join(\n",
    "            self.config.tensorbord_root_log_dir,\n",
    "            f\"tb_logs_at_{timestamp}\"\n",
    "        )\n",
    "        return tf.keras.callbacks.TensorBoard(log_dir=tb_running_log_dir)\n",
    "\n",
    "    @property\n",
    "    def _create_ckpt_callbacks(self):\n",
    "        return tf.keras.callbacks.ModelCheckpoint(\n",
    "            filepath=self.config.checkpoint_model_filepath,\n",
    "            save_best_only=True\n",
    "        )\n",
    "    \n",
    "    def get_ckpt_callbacks(self):\n",
    "        return [\n",
    "            self._create_tb_callbacks,\n",
    "            self._create_ckpt_callbacks\n",
    "        ]"
   ]
  },
  {
   "cell_type": "code",
   "execution_count": 7,
   "metadata": {},
   "outputs": [
    {
     "name": "stdout",
     "output_type": "stream",
     "text": [
      "[2022-09-20 22:51:48,273: INFO: common]: yaml file: configs\\confIg.yaml loaded successfully\n",
      "[2022-09-20 22:51:48,283: INFO: common]: yaml file: params.yaml loaded successfully\n",
      "[2022-09-20 22:51:48,284: INFO: common]: created directory at: artifacts\n",
      "[2022-09-20 22:51:48,287: INFO: common]: created directory at: artifacts\\prepare_callbacks\\checkpoint_dir\n",
      "[2022-09-20 22:51:48,288: INFO: common]: created directory at: artifacts\\prepare_callbacks\\tensorboard_log_dir\n"
     ]
    }
   ],
   "source": [
    "try:\n",
    "    config=Configuration()\n",
    "    prepare_callback_config=config.get_prepare_callback_config()\n",
    "    prepare_callbacks = PrepareCallBack(config=prepare_callback_config)\n",
    "    prepare_callbacks.get_ckpt_callbacks()\n",
    "except Exception as e:\n",
    "    raise e"
   ]
  },
  {
   "cell_type": "code",
   "execution_count": null,
   "metadata": {},
   "outputs": [],
   "source": []
  }
 ],
 "metadata": {
  "kernelspec": {
   "display_name": "Python 3.8.13 (conda)",
   "language": "python",
   "name": "python3"
  },
  "language_info": {
   "codemirror_mode": {
    "name": "ipython",
    "version": 3
   },
   "file_extension": ".py",
   "mimetype": "text/x-python",
   "name": "python",
   "nbconvert_exporter": "python",
   "pygments_lexer": "ipython3",
   "version": "3.8.13"
  },
  "orig_nbformat": 4,
  "vscode": {
   "interpreter": {
    "hash": "7665ef9b211ad6361d95f92e5afca5d02bf9c4b5b9d65babd0527c7f04cc0693"
   }
  }
 },
 "nbformat": 4,
 "nbformat_minor": 2
}
